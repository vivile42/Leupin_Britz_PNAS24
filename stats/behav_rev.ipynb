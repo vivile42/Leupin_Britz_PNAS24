{
 "cells": [
  {
   "cell_type": "markdown",
   "source": [
    "# Code for behavioral means and figure S1\n",
    "Uses dataframe obtained from epoched data together with metadata "
   ],
   "metadata": {
    "collapsed": false
   }
  },
  {
   "cell_type": "code",
   "outputs": [],
   "source": [
    "import pandas as pd\n",
    "import seaborn as sns\n",
    "import feather\n",
    "import os\n",
    "import sys\n",
    "import platform\n",
    "\n",
    "if platform.system()=='Darwin':\n",
    "    sys.path.append('/Users/leupinv/BBC/WP1/data/Code/python/BBC')\n",
    "    os.chdir('/Volumes/BBC/BBC/WP1/data/EEG/tsk/')\n",
    "\n",
    "\n",
    "\n",
    "elif platform.system()=='Windows':\n",
    "    os.chdir('Z:/BBC/WP1/data/EEG/tsk')\n",
    "    sys.path.append('E:/BBC/WP1/data/Code/python/BBC')\n",
    "\n",
    "  \n",
    "import matplotlib.pyplot as plt\n"
   ],
   "metadata": {
    "collapsed": false
   },
   "execution_count": null
  },
  {
   "cell_type": "code",
   "execution_count": null,
   "outputs": [],
   "source": [
    "%load_ext autoreload\n",
    "\n",
    "\n",
    "%autoreload 2\n",
    "\n",
    "plt.style.use('default')\n",
    "import matplotlib as mpl\n",
    "plt.style.use('default')\n",
    "\n",
    "mpl.rcParams['svg.fonttype']='none'\n",
    "mpl.rcParams['text.usetex']=False"
   ],
   "metadata": {
    "collapsed": false
   }
  },
  {
   "cell_type": "code",
   "execution_count": null,
   "outputs": [],
   "source": [
    "path='tsk/ana/behavioral/epoch_df'\n",
    "filename='/tsk_n_epo_vep_cfa_df_P1_150.feather'"
   ],
   "metadata": {
    "collapsed": false,
    "pycharm": {
     "name": "#%%\n"
    }
   }
  },
  {
   "cell_type": "code",
   "execution_count": null,
   "outputs": [],
   "source": [
    "df=pd.read_feather(path+filename)"
   ],
   "metadata": {
    "collapsed": false,
    "pycharm": {
     "name": "#%%\n"
    }
   }
  },
  {
   "cell_type": "code",
   "execution_count": null,
   "outputs": [],
   "source": [
    "df"
   ],
   "metadata": {
    "collapsed": false,
    "pycharm": {
     "name": "#%%\n"
    }
   }
  },
  {
   "cell_type": "code",
   "execution_count": null,
   "outputs": [],
   "source": [
    "df=df[df['difficulty']== 'normal']\n",
    "df=df[df['accuracy']== 'correct']\n",
    "df=df[df['sys_mask']== 1]"
   ],
   "metadata": {
    "collapsed": false
   }
  },
  {
   "cell_type": "code",
   "execution_count": null,
   "outputs": [],
   "source": [
    "39*10**-10\n"
   ],
   "metadata": {
    "collapsed": false
   }
  },
  {
   "cell_type": "markdown",
   "source": [
    "## Create DF which filters out 2.5 centiles from each side of the distribution\n"
   ],
   "metadata": {
    "collapsed": false
   }
  },
  {
   "cell_type": "code",
   "execution_count": null,
   "outputs": [],
   "source": [
    "list_gn=list()\n",
    "for g_n in df['g_num'].unique():\n",
    "    g_df=df[df['g_num']==g_n]\n",
    "    g_df = g_df[(g_df.RT < g_df.RT.quantile(0.975))\n",
    "                & (g_df.RT > g_df.RT.quantile(0.025))]\n",
    "\n",
    "    list_gn.append(g_df)\n",
    "df_filt=pd.concat(list_gn)"
   ],
   "metadata": {
    "collapsed": false
   }
  },
  {
   "cell_type": "code",
   "execution_count": null,
   "outputs": [],
   "source": [
    "df_filt"
   ],
   "metadata": {
    "collapsed": false
   }
  },
  {
   "cell_type": "code",
   "execution_count": null,
   "outputs": [],
   "source": [
    "filenameout='/tsk_n_epo_vep_cfa_df_P1_150_2_5quantile_symm_filtered.feather'\n",
    "fileout=path+filenameout\n",
    "feather.write_dataframe(df_filt,fileout)"
   ],
   "metadata": {
    "collapsed": false
   }
  },
  {
   "cell_type": "code",
   "execution_count": null,
   "outputs": [],
   "source": [
    "df_filt"
   ],
   "metadata": {
    "collapsed": false
   }
  },
  {
   "cell_type": "code",
   "outputs": [],
   "source": [
    "df=df_filt"
   ],
   "metadata": {
    "collapsed": false
   }
  },
  {
   "cell_type": "markdown",
   "source": [
    "### Anovas  on RT\n",
    "anovas were subtited with GLMM see r file behavioral_GLM.Rmd"
   ],
   "metadata": {
    "collapsed": false
   }
  },
  {
   "cell_type": "code",
   "execution_count": null,
   "outputs": [],
   "source": [
    "df_group_rsp=df.pivot_table(index=['g_num','rsp_phase','awareness'],values='RT',aggfunc='mean')\n",
    "df_group_rsp.reset_index(inplace=True)\n",
    "df_group_card=df.pivot_table(index=['g_num','cardiac_phase','awareness'],values='RT',aggfunc='mean')\n",
    "df_group_card.reset_index(inplace=True)"
   ],
   "metadata": {
    "collapsed": false
   }
  },
  {
   "cell_type": "code",
   "execution_count": null,
   "outputs": [],
   "source": [
    "import pingouin as pg"
   ],
   "metadata": {
    "collapsed": false
   }
  },
  {
   "cell_type": "code",
   "execution_count": null,
   "outputs": [],
   "source": [
    "pg.rm_anova(df_group_rsp,dv='RT',within=['awareness','rsp_phase'],subject='g_num',effsize='np2')"
   ],
   "metadata": {
    "collapsed": false
   }
  },
  {
   "cell_type": "code",
   "execution_count": null,
   "outputs": [],
   "source": [
    "pg.rm_anova(df_group_card,dv='RT',within=['awareness','cardiac_phase'],subject='g_num',effsize='np2')"
   ],
   "metadata": {
    "collapsed": false
   }
  },
  {
   "cell_type": "code",
   "execution_count": null,
   "outputs": [],
   "source": [
    "df_group_awa=df.pivot_table(index=['g_num'],columns=['awareness'],values='RT',aggfunc='mean')\n",
    "df_group_awa.reset_index(inplace=True)\n",
    "\n"
   ],
   "metadata": {
    "collapsed": false
   }
  },
  {
   "cell_type": "code",
   "execution_count": null,
   "outputs": [],
   "source": [
    "print(f'mean aware = {df_group_awa[\"aware\"].mean()} \\nSD aware = {df_group_awa[\"aware\"].std()} \\nmean unaware = {df_group_awa[\"unaware\"].mean()} \\nSD unaware = {df_group_awa[\"unaware\"].std()}')"
   ],
   "metadata": {
    "collapsed": false
   }
  },
  {
   "cell_type": "code",
   "execution_count": null,
   "outputs": [],
   "source": [],
   "metadata": {
    "collapsed": false
   }
  },
  {
   "cell_type": "markdown",
   "source": [
    "## Figure S1 \n",
    "Code to produce figure S1\n",
    "phy_phase='cardiac_phase' produces figure for cardiac phase\n",
    "phy_phase='rsp_phase' produces figure for respiratory phase"
   ],
   "metadata": {
    "collapsed": false
   }
  },
  {
   "cell_type": "code",
   "execution_count": null,
   "outputs": [],
   "source": [
    "dv='RT'\n",
    "phy_phase='cardiac_phase'\n",
    "dict_awa_list={}\n",
    "\n",
    "if phy_phase=='rsp_phase':\n",
    "    pivot_tab=df_group_rsp.copy()\n",
    "else:\n",
    "    pivot_tab=df_group_card.copy()\n",
    "\n",
    "for awa in pivot_tab['awareness'].unique():\n",
    "\n",
    "\n",
    "    awa_df=pivot_tab[pivot_tab['awareness']==awa][[dv,phy_phase]]\n",
    "    for card in pivot_tab[phy_phase].unique():\n",
    "        awa_card=awa_df[awa_df[phy_phase]==card]\n",
    "        mean_card_awa=awa_card.mean()[dv]\n",
    "        sem_card_awa=awa_card.sem()[dv]\n",
    "        dict_awa_list[f'{awa}_{card}']={'mean':mean_card_awa,'sem':sem_card_awa}"
   ],
   "metadata": {
    "collapsed": false
   }
  },
  {
   "cell_type": "code",
   "execution_count": null,
   "outputs": [],
   "source": [
    "%matplotlib qt\n",
    "ylab='RT'\n",
    "if phy_phase=='rsp_phase':\n",
    "    color_list=['g','tab:pink','g','tab:pink']\n",
    "    facecolor_list=['w','w','g','tab:pink']\n",
    "    xticklab=['Aware', 'Unaware']\n",
    "    xlab='Awareness'\n",
    "    cond_list=['aware_inh','aware_exh','unaware_inh','unaware_exh']\n",
    "else:\n",
    "    color_list=['tab:orange','b','tab:orange','b']\n",
    "    facecolor_list=['w','w','tab:orange','b']\n",
    "    xticklab=['Aware', 'Unaware']\n",
    "    xlab='Awareness'\n",
    "    cond_list=['aware_sys','aware_dia','unaware_sys','unaware_dia']\n",
    "\n",
    "\n",
    "hatch_list=['///','///','','']\n",
    "adj_list=[0,-0.4,-0.45,-0.85]\n",
    "#color_list=['tab:orange','tab:orange','b','b']\n",
    "#facecolor_list=['w','tab:orange','w','b']\n",
    "\n",
    "alpha_list=[1,0.6,1,0.6]\n",
    "x=0\n",
    "fig,ax=plt.subplots(figsize=(9,7))\n",
    "for cond,color,hatch,adj,facecolor,alpha in zip(cond_list,color_list,hatch_list,adj_list,facecolor_list,alpha_list):\n",
    "\n",
    "\n",
    "    ax.bar(x=x+adj,height=[dict_awa_list[cond]['mean']],facecolor=facecolor,yerr=[dict_awa_list[cond]['sem']],\n",
    "           edgecolor=color,hatch=hatch,linewidth=2.5,capsize=(2),ecolor='0.3',\n",
    "           width=0.5,label=cond.split('_')[0]+' '+cond.split('_')[1],alpha=alpha)\n",
    "    x+=1\n",
    "\n",
    "\n",
    "\n",
    "plt.xticks([0.3,1.85],labels=xticklab,size='x-large')\n",
    "plt.xlabel(xlab,size='x-large')\n",
    "\n",
    "ax.spines['top'].set_visible(False)\n",
    "ax.spines['right'].set_visible(False)\n",
    "plt.ylabel(ylab,size='x-large')\n",
    "#plt.title('Interaction effect of cadiac and awaraness condition in the P1')\n",
    "plt.legend(bbox_to_anchor=(1,1),fontsize='x-large')\n",
    "\n",
    "fig=plt.gcf()"
   ],
   "metadata": {
    "collapsed": false
   }
  },
  {
   "cell_type": "code",
   "execution_count": null,
   "outputs": [],
   "source": [
    "png=f'RT_int_{phy_phase}Xawa_2_5q.svg'\n",
    "fig_path=f'ana/results_report/images/barplots/{png}'\n",
    "\n",
    "fig.savefig(fig_path,dpi=1200,bbox_inches='tight',format='svg')"
   ],
   "metadata": {
    "collapsed": false
   }
  },
  {
   "cell_type": "code",
   "outputs": [],
   "source": [],
   "metadata": {
    "collapsed": false
   }
  },
  {
   "cell_type": "markdown",
   "source": [
    "#accuracy and sys/dia ratio were produced on the behavioral df \n"
   ],
   "metadata": {
    "collapsed": false
   }
  },
  {
   "cell_type": "code",
   "outputs": [],
   "source": [
    "path='ana/behavioral'\n",
    "filename='/behav_df_n.feather'\n",
    "fileout='/behav_group.feather'\n",
    "df=pd.read_feather(path+filename)"
   ],
   "metadata": {
    "collapsed": false,
    "ExecuteTime": {
     "end_time": "2024-06-06T13:30:04.612183Z",
     "start_time": "2024-06-06T13:30:03.980960Z"
    }
   },
   "execution_count": 9
  },
  {
   "cell_type": "code",
   "outputs": [
    {
     "data": {
      "text/plain": "            TF           RT difficulty accuracy awareness cardiac_phase  \\\n0        12553   609.187500     normal  correct     aware           dia   \n1        14686   517.390625       easy  correct     aware           dia   \n2        17366  1233.210938     normal  correct   unaware           dia   \n3        19917  1026.179688     normal  mistake   unaware           sys   \n4        25319   592.585938       easy  correct     aware           sys   \n...        ...          ...        ...      ...       ...           ...   \n25507  4363496  1158.992188     normal  correct   unaware           dia   \n25508  4366363   800.593750     normal  correct     aware           dia   \n25509  4369094   874.812500     normal  correct   unaware           sys   \n25510  4371159   933.406250     normal  correct   unaware           sys   \n25511  4373949   800.593750     normal  correct   unaware           dia   \n\n            RRI  HeartRate  HeartRate_post  HeartRate_rolling_5_before  ...  \\\n0      0.927734  64.673684       64.335079                   62.615465  ...   \n1      0.868164  69.111361       67.964602                   64.877039  ...   \n2      0.986328  60.831683       58.181818                   65.410570  ...   \n3      1.038086  57.798683       58.403042                   60.301070  ...   \n4      1.028320  58.347578       62.186235                   58.548540  ...   \n...         ...        ...             ...                         ...  ...   \n25507  0.706055  84.979253       85.690377                   82.822591  ...   \n25508  0.757812  79.175258       80.629921                   82.922684  ...   \n25509  0.764648  78.467433       82.580645                   79.843252  ...   \n25510  0.706055  84.979253       81.269841                   82.374446  ...   \n25511  0.719727  83.364993       80.418848                   83.049583  ...   \n\n         BPQ   Code  Sexe:    Age     mod_Z  log_norm    Zscore  rsp_int_inh  \\\n0      109.0   MQ50       M  24.0 -0.395391  6.412126 -0.453900     5.219727   \n1      109.0   MQ50       M  24.0 -0.832647  6.248798 -0.872244     5.219727   \n2      109.0   MQ50       M  24.0  2.577020  7.117377  2.389948     3.906250   \n3      109.0   MQ50       M  24.0  1.590868  6.933598  1.446449     3.906250   \n4      109.0   MQ50       M  24.0 -0.474469  6.384496 -0.529558     4.265625   \n...      ...    ...     ...   ...       ...       ...       ...          ...   \n25507   62.0  MQ108       F  26.0  2.141631  7.055306  0.919909     3.587891   \n25508   62.0  MQ108       F  26.0  0.334784  6.685354 -0.147616     3.673828   \n25509   62.0  MQ108       F  26.0  0.708954  6.774010  0.073452     3.673828   \n25510   62.0  MQ108       F  26.0  1.004351  6.838841  0.247979     3.115234   \n25511   62.0  MQ108       F  26.0  0.334784  6.685354 -0.147616     2.922852   \n\n        inh_dur  mean_int  \n0      2.950195  0.489818  \n1      2.950195  0.489818  \n2      1.833984  0.489818  \n3      1.833984  0.489818  \n4      1.921875  0.489818  \n...         ...       ...  \n25507  1.655273  0.017568  \n25508  1.654297  0.017568  \n25509  1.654297  0.017568  \n25510  1.187500  0.017568  \n25511  1.338867  0.017568  \n\n[25512 rows x 63 columns]",
      "text/html": "<div>\n<style scoped>\n    .dataframe tbody tr th:only-of-type {\n        vertical-align: middle;\n    }\n\n    .dataframe tbody tr th {\n        vertical-align: top;\n    }\n\n    .dataframe thead th {\n        text-align: right;\n    }\n</style>\n<table border=\"1\" class=\"dataframe\">\n  <thead>\n    <tr style=\"text-align: right;\">\n      <th></th>\n      <th>TF</th>\n      <th>RT</th>\n      <th>difficulty</th>\n      <th>accuracy</th>\n      <th>awareness</th>\n      <th>cardiac_phase</th>\n      <th>RRI</th>\n      <th>HeartRate</th>\n      <th>HeartRate_post</th>\n      <th>HeartRate_rolling_5_before</th>\n      <th>...</th>\n      <th>BPQ</th>\n      <th>Code</th>\n      <th>Sexe:</th>\n      <th>Age</th>\n      <th>mod_Z</th>\n      <th>log_norm</th>\n      <th>Zscore</th>\n      <th>rsp_int_inh</th>\n      <th>inh_dur</th>\n      <th>mean_int</th>\n    </tr>\n  </thead>\n  <tbody>\n    <tr>\n      <th>0</th>\n      <td>12553</td>\n      <td>609.187500</td>\n      <td>normal</td>\n      <td>correct</td>\n      <td>aware</td>\n      <td>dia</td>\n      <td>0.927734</td>\n      <td>64.673684</td>\n      <td>64.335079</td>\n      <td>62.615465</td>\n      <td>...</td>\n      <td>109.0</td>\n      <td>MQ50</td>\n      <td>M</td>\n      <td>24.0</td>\n      <td>-0.395391</td>\n      <td>6.412126</td>\n      <td>-0.453900</td>\n      <td>5.219727</td>\n      <td>2.950195</td>\n      <td>0.489818</td>\n    </tr>\n    <tr>\n      <th>1</th>\n      <td>14686</td>\n      <td>517.390625</td>\n      <td>easy</td>\n      <td>correct</td>\n      <td>aware</td>\n      <td>dia</td>\n      <td>0.868164</td>\n      <td>69.111361</td>\n      <td>67.964602</td>\n      <td>64.877039</td>\n      <td>...</td>\n      <td>109.0</td>\n      <td>MQ50</td>\n      <td>M</td>\n      <td>24.0</td>\n      <td>-0.832647</td>\n      <td>6.248798</td>\n      <td>-0.872244</td>\n      <td>5.219727</td>\n      <td>2.950195</td>\n      <td>0.489818</td>\n    </tr>\n    <tr>\n      <th>2</th>\n      <td>17366</td>\n      <td>1233.210938</td>\n      <td>normal</td>\n      <td>correct</td>\n      <td>unaware</td>\n      <td>dia</td>\n      <td>0.986328</td>\n      <td>60.831683</td>\n      <td>58.181818</td>\n      <td>65.410570</td>\n      <td>...</td>\n      <td>109.0</td>\n      <td>MQ50</td>\n      <td>M</td>\n      <td>24.0</td>\n      <td>2.577020</td>\n      <td>7.117377</td>\n      <td>2.389948</td>\n      <td>3.906250</td>\n      <td>1.833984</td>\n      <td>0.489818</td>\n    </tr>\n    <tr>\n      <th>3</th>\n      <td>19917</td>\n      <td>1026.179688</td>\n      <td>normal</td>\n      <td>mistake</td>\n      <td>unaware</td>\n      <td>sys</td>\n      <td>1.038086</td>\n      <td>57.798683</td>\n      <td>58.403042</td>\n      <td>60.301070</td>\n      <td>...</td>\n      <td>109.0</td>\n      <td>MQ50</td>\n      <td>M</td>\n      <td>24.0</td>\n      <td>1.590868</td>\n      <td>6.933598</td>\n      <td>1.446449</td>\n      <td>3.906250</td>\n      <td>1.833984</td>\n      <td>0.489818</td>\n    </tr>\n    <tr>\n      <th>4</th>\n      <td>25319</td>\n      <td>592.585938</td>\n      <td>easy</td>\n      <td>correct</td>\n      <td>aware</td>\n      <td>sys</td>\n      <td>1.028320</td>\n      <td>58.347578</td>\n      <td>62.186235</td>\n      <td>58.548540</td>\n      <td>...</td>\n      <td>109.0</td>\n      <td>MQ50</td>\n      <td>M</td>\n      <td>24.0</td>\n      <td>-0.474469</td>\n      <td>6.384496</td>\n      <td>-0.529558</td>\n      <td>4.265625</td>\n      <td>1.921875</td>\n      <td>0.489818</td>\n    </tr>\n    <tr>\n      <th>...</th>\n      <td>...</td>\n      <td>...</td>\n      <td>...</td>\n      <td>...</td>\n      <td>...</td>\n      <td>...</td>\n      <td>...</td>\n      <td>...</td>\n      <td>...</td>\n      <td>...</td>\n      <td>...</td>\n      <td>...</td>\n      <td>...</td>\n      <td>...</td>\n      <td>...</td>\n      <td>...</td>\n      <td>...</td>\n      <td>...</td>\n      <td>...</td>\n      <td>...</td>\n      <td>...</td>\n    </tr>\n    <tr>\n      <th>25507</th>\n      <td>4363496</td>\n      <td>1158.992188</td>\n      <td>normal</td>\n      <td>correct</td>\n      <td>unaware</td>\n      <td>dia</td>\n      <td>0.706055</td>\n      <td>84.979253</td>\n      <td>85.690377</td>\n      <td>82.822591</td>\n      <td>...</td>\n      <td>62.0</td>\n      <td>MQ108</td>\n      <td>F</td>\n      <td>26.0</td>\n      <td>2.141631</td>\n      <td>7.055306</td>\n      <td>0.919909</td>\n      <td>3.587891</td>\n      <td>1.655273</td>\n      <td>0.017568</td>\n    </tr>\n    <tr>\n      <th>25508</th>\n      <td>4366363</td>\n      <td>800.593750</td>\n      <td>normal</td>\n      <td>correct</td>\n      <td>aware</td>\n      <td>dia</td>\n      <td>0.757812</td>\n      <td>79.175258</td>\n      <td>80.629921</td>\n      <td>82.922684</td>\n      <td>...</td>\n      <td>62.0</td>\n      <td>MQ108</td>\n      <td>F</td>\n      <td>26.0</td>\n      <td>0.334784</td>\n      <td>6.685354</td>\n      <td>-0.147616</td>\n      <td>3.673828</td>\n      <td>1.654297</td>\n      <td>0.017568</td>\n    </tr>\n    <tr>\n      <th>25509</th>\n      <td>4369094</td>\n      <td>874.812500</td>\n      <td>normal</td>\n      <td>correct</td>\n      <td>unaware</td>\n      <td>sys</td>\n      <td>0.764648</td>\n      <td>78.467433</td>\n      <td>82.580645</td>\n      <td>79.843252</td>\n      <td>...</td>\n      <td>62.0</td>\n      <td>MQ108</td>\n      <td>F</td>\n      <td>26.0</td>\n      <td>0.708954</td>\n      <td>6.774010</td>\n      <td>0.073452</td>\n      <td>3.673828</td>\n      <td>1.654297</td>\n      <td>0.017568</td>\n    </tr>\n    <tr>\n      <th>25510</th>\n      <td>4371159</td>\n      <td>933.406250</td>\n      <td>normal</td>\n      <td>correct</td>\n      <td>unaware</td>\n      <td>sys</td>\n      <td>0.706055</td>\n      <td>84.979253</td>\n      <td>81.269841</td>\n      <td>82.374446</td>\n      <td>...</td>\n      <td>62.0</td>\n      <td>MQ108</td>\n      <td>F</td>\n      <td>26.0</td>\n      <td>1.004351</td>\n      <td>6.838841</td>\n      <td>0.247979</td>\n      <td>3.115234</td>\n      <td>1.187500</td>\n      <td>0.017568</td>\n    </tr>\n    <tr>\n      <th>25511</th>\n      <td>4373949</td>\n      <td>800.593750</td>\n      <td>normal</td>\n      <td>correct</td>\n      <td>unaware</td>\n      <td>dia</td>\n      <td>0.719727</td>\n      <td>83.364993</td>\n      <td>80.418848</td>\n      <td>83.049583</td>\n      <td>...</td>\n      <td>62.0</td>\n      <td>MQ108</td>\n      <td>F</td>\n      <td>26.0</td>\n      <td>0.334784</td>\n      <td>6.685354</td>\n      <td>-0.147616</td>\n      <td>2.922852</td>\n      <td>1.338867</td>\n      <td>0.017568</td>\n    </tr>\n  </tbody>\n</table>\n<p>25512 rows × 63 columns</p>\n</div>"
     },
     "execution_count": 10,
     "metadata": {},
     "output_type": "execute_result"
    }
   ],
   "source": [
    "df"
   ],
   "metadata": {
    "collapsed": false,
    "ExecuteTime": {
     "end_time": "2024-06-06T13:30:05.672529Z",
     "start_time": "2024-06-06T13:30:05.639800Z"
    }
   },
   "execution_count": 10
  },
  {
   "cell_type": "code",
   "outputs": [],
   "source": [
    "col_dv_group=[ 'CACU_corr', 'corr']"
   ],
   "metadata": {
    "collapsed": false,
    "ExecuteTime": {
     "end_time": "2024-06-06T13:30:54.088540Z",
     "start_time": "2024-06-06T13:30:54.077795Z"
    }
   },
   "execution_count": 15
  },
  {
   "cell_type": "code",
   "outputs": [],
   "source": [
    "df=df[df['sys_mask']==1]\n",
    "df=df[df['difficulty']=='normal']"
   ],
   "metadata": {
    "collapsed": false,
    "ExecuteTime": {
     "end_time": "2024-06-06T13:30:58.041420Z",
     "start_time": "2024-06-06T13:30:58.022606Z"
    }
   },
   "execution_count": 16
  },
  {
   "cell_type": "code",
   "outputs": [
    {
     "data": {
      "text/plain": "   g_num  CACU_corr  corr\n0    g01       0.53  0.83\n1    g03       0.63  0.72\n2    g08       0.70  0.90\n3    g10       0.70  0.91\n4    g11       0.51  0.87\n5    g12       0.50  0.92\n6    g15       0.46  0.80\n7    g16       0.49  0.77\n8    g17       0.41  0.94\n9    g19       0.63  0.84\n10   g23       0.65  0.81\n11   g24       0.34  0.84\n12   g25       0.69  0.89\n13   g28       0.33  0.74\n14   g32       0.54  0.84\n15   g33       0.47  0.95\n16   g34       0.64  0.79\n17   g37       0.43  0.88\n18   g38       0.44  0.87\n19   g39       0.33  0.89\n20   g40       0.39  0.83\n21   g41       0.37  0.96\n22   g42       0.47  0.86\n23   g44       0.38  1.00\n24   g45       0.60  0.81\n25   g46       0.63  0.87\n26   g47       0.56  0.87\n27   g49       0.47  0.78\n28   g51       0.46  0.86\n29   g52       0.39  0.82",
      "text/html": "<div>\n<style scoped>\n    .dataframe tbody tr th:only-of-type {\n        vertical-align: middle;\n    }\n\n    .dataframe tbody tr th {\n        vertical-align: top;\n    }\n\n    .dataframe thead th {\n        text-align: right;\n    }\n</style>\n<table border=\"1\" class=\"dataframe\">\n  <thead>\n    <tr style=\"text-align: right;\">\n      <th></th>\n      <th>g_num</th>\n      <th>CACU_corr</th>\n      <th>corr</th>\n    </tr>\n  </thead>\n  <tbody>\n    <tr>\n      <th>0</th>\n      <td>g01</td>\n      <td>0.53</td>\n      <td>0.83</td>\n    </tr>\n    <tr>\n      <th>1</th>\n      <td>g03</td>\n      <td>0.63</td>\n      <td>0.72</td>\n    </tr>\n    <tr>\n      <th>2</th>\n      <td>g08</td>\n      <td>0.70</td>\n      <td>0.90</td>\n    </tr>\n    <tr>\n      <th>3</th>\n      <td>g10</td>\n      <td>0.70</td>\n      <td>0.91</td>\n    </tr>\n    <tr>\n      <th>4</th>\n      <td>g11</td>\n      <td>0.51</td>\n      <td>0.87</td>\n    </tr>\n    <tr>\n      <th>5</th>\n      <td>g12</td>\n      <td>0.50</td>\n      <td>0.92</td>\n    </tr>\n    <tr>\n      <th>6</th>\n      <td>g15</td>\n      <td>0.46</td>\n      <td>0.80</td>\n    </tr>\n    <tr>\n      <th>7</th>\n      <td>g16</td>\n      <td>0.49</td>\n      <td>0.77</td>\n    </tr>\n    <tr>\n      <th>8</th>\n      <td>g17</td>\n      <td>0.41</td>\n      <td>0.94</td>\n    </tr>\n    <tr>\n      <th>9</th>\n      <td>g19</td>\n      <td>0.63</td>\n      <td>0.84</td>\n    </tr>\n    <tr>\n      <th>10</th>\n      <td>g23</td>\n      <td>0.65</td>\n      <td>0.81</td>\n    </tr>\n    <tr>\n      <th>11</th>\n      <td>g24</td>\n      <td>0.34</td>\n      <td>0.84</td>\n    </tr>\n    <tr>\n      <th>12</th>\n      <td>g25</td>\n      <td>0.69</td>\n      <td>0.89</td>\n    </tr>\n    <tr>\n      <th>13</th>\n      <td>g28</td>\n      <td>0.33</td>\n      <td>0.74</td>\n    </tr>\n    <tr>\n      <th>14</th>\n      <td>g32</td>\n      <td>0.54</td>\n      <td>0.84</td>\n    </tr>\n    <tr>\n      <th>15</th>\n      <td>g33</td>\n      <td>0.47</td>\n      <td>0.95</td>\n    </tr>\n    <tr>\n      <th>16</th>\n      <td>g34</td>\n      <td>0.64</td>\n      <td>0.79</td>\n    </tr>\n    <tr>\n      <th>17</th>\n      <td>g37</td>\n      <td>0.43</td>\n      <td>0.88</td>\n    </tr>\n    <tr>\n      <th>18</th>\n      <td>g38</td>\n      <td>0.44</td>\n      <td>0.87</td>\n    </tr>\n    <tr>\n      <th>19</th>\n      <td>g39</td>\n      <td>0.33</td>\n      <td>0.89</td>\n    </tr>\n    <tr>\n      <th>20</th>\n      <td>g40</td>\n      <td>0.39</td>\n      <td>0.83</td>\n    </tr>\n    <tr>\n      <th>21</th>\n      <td>g41</td>\n      <td>0.37</td>\n      <td>0.96</td>\n    </tr>\n    <tr>\n      <th>22</th>\n      <td>g42</td>\n      <td>0.47</td>\n      <td>0.86</td>\n    </tr>\n    <tr>\n      <th>23</th>\n      <td>g44</td>\n      <td>0.38</td>\n      <td>1.00</td>\n    </tr>\n    <tr>\n      <th>24</th>\n      <td>g45</td>\n      <td>0.60</td>\n      <td>0.81</td>\n    </tr>\n    <tr>\n      <th>25</th>\n      <td>g46</td>\n      <td>0.63</td>\n      <td>0.87</td>\n    </tr>\n    <tr>\n      <th>26</th>\n      <td>g47</td>\n      <td>0.56</td>\n      <td>0.87</td>\n    </tr>\n    <tr>\n      <th>27</th>\n      <td>g49</td>\n      <td>0.47</td>\n      <td>0.78</td>\n    </tr>\n    <tr>\n      <th>28</th>\n      <td>g51</td>\n      <td>0.46</td>\n      <td>0.86</td>\n    </tr>\n    <tr>\n      <th>29</th>\n      <td>g52</td>\n      <td>0.39</td>\n      <td>0.82</td>\n    </tr>\n  </tbody>\n</table>\n</div>"
     },
     "execution_count": 17,
     "metadata": {},
     "output_type": "execute_result"
    }
   ],
   "source": [
    "pivot_gen=df.pivot_table(index=['g_num'],values=col_dv_group)\n",
    "pivot_gen.reset_index(inplace=True)\n",
    "pivot_gen"
   ],
   "metadata": {
    "collapsed": false,
    "ExecuteTime": {
     "end_time": "2024-06-06T13:30:58.451482Z",
     "start_time": "2024-06-06T13:30:58.435700Z"
    }
   },
   "execution_count": 17
  },
  {
   "cell_type": "code",
   "outputs": [
    {
     "name": "stdout",
     "output_type": "stream",
     "text": [
      "0.8553333333333334\n",
      "0.06441960150040718\n",
      "0.5046666666666667\n",
      "0.11536249714325031\n"
     ]
    }
   ],
   "source": [
    "print(pivot_gen['corr'].mean())\n",
    "print(pivot_gen['corr'].std())\n",
    "print(pivot_gen['CACU_corr'].mean())\n",
    "print(pivot_gen['CACU_corr'].std())"
   ],
   "metadata": {
    "collapsed": false,
    "ExecuteTime": {
     "end_time": "2024-06-06T13:30:59.849776Z",
     "start_time": "2024-06-06T13:30:59.834283Z"
    }
   },
   "execution_count": 18
  },
  {
   "cell_type": "code",
   "outputs": [],
   "source": [],
   "metadata": {
    "collapsed": false
   }
  }
 ],
 "metadata": {
  "kernelspec": {
   "name": "mne",
   "language": "python",
   "display_name": "Python (mne)"
  },
  "language_info": {
   "codemirror_mode": {
    "name": "ipython",
    "version": 2
   },
   "file_extension": ".py",
   "mimetype": "text/x-python",
   "name": "python",
   "nbconvert_exporter": "python",
   "pygments_lexer": "ipython2",
   "version": "2.7.6"
  }
 },
 "nbformat": 4,
 "nbformat_minor": 0
}
