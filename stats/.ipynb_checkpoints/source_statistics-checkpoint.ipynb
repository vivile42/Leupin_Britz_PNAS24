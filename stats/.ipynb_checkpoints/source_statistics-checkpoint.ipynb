{
 "cells": [
  {
   "cell_type": "code",
   "execution_count": null,
   "id": "525212ed",
   "metadata": {},
   "outputs": [],
   "source": [
    "\n",
    "\n",
    "\n",
    "\n",
    "import mne\n",
    "import pandas as pd \n",
    "import os\n",
    "import matplotlib.pyplot as plt\n",
    "\n",
    "import numpy as np\n",
    "import platform\n",
    "\n",
    "import sys\n",
    "\n",
    "#sys.path.append('/media/vivi/Data/linux/Code/BBC') \n",
    "\n",
    "#os.chdir('d:/switchdrive/BBC/WP1/data/Code/python/tsk_processing_1/base')\n",
    "#os.chdir('c:/Users/Engi/all/BBC/WP1/data/Code/python/tsk_processing_1/base')\n",
    "#os.chdir('/Users/leupinv/switchdrive/BBC/WP1/data/Code/python/tsk_processing_1/base')\n",
    "\n",
    "\n",
    "if platform.system()=='Darwin':\n",
    "    #sys.path.append('/Users/leupinv/BBC/WP1/data/Code/python/BBC')\n",
    "    os.chdir('/Volumes/BBC/BBC/WP1/data/EEG/tsk/')\n",
    "\n",
    "    \n",
    "\n",
    "elif platform.system()=='Windows':\n",
    "    #sys.path.append('C:/Users/Vivi/switchdrive/BBC/WP1/data/Code/python/BBC')\n",
    "    os.chdir('Z:/BBC/WP1/data/EEG/tsk')\n",
    "\n",
    "from base.files_in_out import getListOfFiles,GetFiles\n",
    "from stats.stats_helper import filter_list, tTest_ana\n",
    "import stats.inverse_stats_helper as hp\n",
    "from mne.datasets import eegbci\n",
    "from mne.datasets import fetch_fsaverage\n",
    "from base.base_constants import G_N\n"
   ]
  },
  {
   "cell_type": "code",
   "outputs": [],
   "source": [
    "%%sql\n"
   ],
   "metadata": {
    "collapsed": false,
    "SqlCellData": {
     "variableName$1": "df_sql2"
    }
   },
   "id": "af1653d45cda949c"
  },
  {
   "cell_type": "code",
   "execution_count": null,
   "id": "9aeb07eb",
   "metadata": {},
   "outputs": [],
   "source": [
    "import base.files_in_out"
   ]
  },
  {
   "cell_type": "code",
   "execution_count": null,
   "id": "1513b8cd",
   "metadata": {},
   "outputs": [],
   "source": [
    "os.getcwd()"
   ]
  },
  {
   "cell_type": "code",
   "execution_count": null,
   "id": "f711f791",
   "metadata": {},
   "outputs": [],
   "source": [
    "fwd=mne.read_forward_solution('coregistration/BBC_5124sol-fwd.fif')"
   ]
  },
  {
   "cell_type": "code",
   "execution_count": null,
   "id": "3b7c572e",
   "metadata": {},
   "outputs": [],
   "source": [
    "#fwd['src'].plot(trans='coregistration/g01_v2-trans.fif')"
   ]
  },
  {
   "cell_type": "code",
   "execution_count": null,
   "id": "8c348f4a",
   "metadata": {},
   "outputs": [],
   "source": [
    "%load_ext autoreload\n",
    "%autoreload 2\n",
    "import matplotlib as mpl\n",
    "plt.style.use('default')\n",
    "\n",
    "mpl.rcParams['svg.fonttype']='none'\n",
    "mpl.rcParams['text.usetex']=False"
   ]
  },
  {
   "cell_type": "code",
   "execution_count": null,
   "id": "21b9fffc",
   "metadata": {},
   "outputs": [],
   "source": []
  },
  {
   "cell_type": "code",
   "execution_count": null,
   "id": "8631f21d",
   "metadata": {},
   "outputs": [],
   "source": [
    "g_num=None\n",
    "eeg_format='.stc'\n",
    "eeg_exp='tsk'\n",
    "fold_5124_loose_dep3_covend_dSPM='ana/MNE/source/5124_source/loose/cov_end/depth_3/stc/dSPM'"
   ]
  },
  {
   "cell_type": "code",
   "execution_count": null,
   "id": "bb60c122",
   "metadata": {},
   "outputs": [],
   "source": []
  },
  {
   "cell_type": "markdown",
   "id": "3bfee271",
   "metadata": {},
   "source": []
  },
  {
   "cell_type": "code",
   "execution_count": null,
   "id": "727d1fb1",
   "metadata": {},
   "outputs": [],
   "source": [
    "files = GetFiles(fold_5124_loose_dep3_covend_dSPM,g_num=g_num,eeg_format=eeg_format)\n",
    "stc_files=files.fflist"
   ]
  },
  {
   "cell_type": "code",
   "execution_count": null,
   "id": "ff71547a",
   "metadata": {},
   "outputs": [],
   "source": [
    "stc_files"
   ]
  },
  {
   "cell_type": "code",
   "outputs": [],
   "source": [
    "sub_dir= 'coregistration/MNE-fsaverage-data'\n",
    "mne.utils.set_config(\"SUBJECTS_DIR\", sub_dir, set_env=True)"
   ],
   "metadata": {
    "collapsed": false
   },
   "id": "fcb39c794095dda6",
   "execution_count": null
  },
  {
   "cell_type": "markdown",
   "source": [
    "#cluster permutation t test"
   ],
   "metadata": {
    "collapsed": false
   },
   "id": "6e0eb8759df1ac7b"
  },
  {
   "cell_type": "code",
   "outputs": [],
   "source": [
    "lab_left=['aware','aware_sys','aware_dia','aware_exh','aware_inh','sys','inh']\n",
    "lab_right=['unaware','unaware_sys','unaware_dia','unaware_exh','unaware_inh','dia','exh']\n",
    "cond='n'\n",
    "\n",
    "#define limit of times to be analyzed \n",
    "times=[[0.09,0.12],[0.24,0.34],[0.27,0.31],[0.31,0.35],[0.4,0.5]]\n"
   ],
   "metadata": {
    "collapsed": false
   },
   "id": "6b662c7c6d34b029",
   "execution_count": null
  },
  {
   "cell_type": "code",
   "outputs": [],
   "source": [
    "\n",
    "for time_cr in times:\n",
    "    crop_value=time_cr\n",
    "    for lab_l,lab_r in zip(lab_left,lab_right):\n",
    "        lab=[f'tsk_{cond}_maskON_correct_cfa_vep_norm_{lab_l}',f'tsk_{cond}_maskON_correct_cfa_vep_norm_{lab_r}']\n",
    "        stc_list=[hp.get_list_cond(stc_files,label) for label in lab ]\n",
    "        #get data array for each subject\n",
    "        X1=hp.get_DF_clus(stc_list[0],crop_value=crop_value)\n",
    "        X2=hp.get_DF_clus(stc_list[1],crop_value=crop_value)\n",
    "        #repeated measure t-test is mathematically equivalent to 1 sample ttest against 0 of the differences for each subject\n",
    "        X=X1-X2\n",
    "        #n of permutaiton\n",
    "        n_perm=5000\n",
    "        lab_title=f'tsk_{cond}_{lab_l}_vs_{lab_r}_{int(time_cr[0]*1000)}_to_{int(time_cr[1]*1000)}ms'\n",
    "\n",
    "\n",
    "        #use helper function to compute cluster permutation\n",
    "        stc_all_cluster,clu=hp.get_tTest_cluster(X, stc_list[0], src=fwd['src'], label=lab_title, FDR=False, p_val=.05, report=None, crop_value=crop_value, n_perm=n_perm, thresh=None,time_smooth=False,t_pow=1)\n",
    "\n"
   ],
   "metadata": {
    "collapsed": false
   },
   "id": "81c83a46c8d2a4d4",
   "execution_count": null
  },
  {
   "cell_type": "markdown",
   "source": [
    "## Read data and plot \n",
    "Figure four was generated screenshotting the output of this and setting the minumum for display at 20 ms "
   ],
   "metadata": {
    "collapsed": false
   },
   "id": "c1af9e5af2691226"
  },
  {
   "cell_type": "code",
   "outputs": [],
   "source": [
    "# in ms interval computed before to plot\n",
    "time1=400\n",
    "time2=500\n",
    "\n",
    "rsp_cond='nasal'\n",
    "\n",
    "#this can be modified to open all different conditions computed before\n",
    "left_cond='aware'\n",
    "right_cond='unaware'\n",
    "\n",
    "file_name=f'ana/MNE/cluster_stats/ttests/{rsp_cond}/{left_cond}_vs_{right_cond}_{time1}_to_{time2}ms.txt'"
   ],
   "metadata": {
    "collapsed": false
   },
   "id": "5b4fc06542aa949c",
   "execution_count": null
  },
  {
   "cell_type": "code",
   "outputs": [],
   "source": [
    "# if this doesn't work run only cell above, it means the cluster was not significant which didn't generate a subfolder\n",
    "file_name=f'ana/MNE/cluster_stats/ttests/{rsp_cond}/{left_cond}_vs_{right_cond}_{time1}_to_{time2}ms/{left_cond}_vs_{right_cond}_{time1}_to_{time2}ms.txt'"
   ],
   "metadata": {
    "collapsed": false
   },
   "id": "f14bd23fde5674a5",
   "execution_count": null
  },
  {
   "cell_type": "code",
   "outputs": [],
   "source": [
    "# read verbose \n",
    "with open(file_name,'r') as file:\n",
    "    text=file.read()\n",
    "    print(text)"
   ],
   "metadata": {
    "collapsed": false
   },
   "id": "35fb21651047c854",
   "execution_count": null
  },
  {
   "cell_type": "code",
   "outputs": [],
   "source": [
    "# read the file where the cluster was saved\n",
    "stc=mne.read_source_estimate(file_name[:-4])"
   ],
   "metadata": {
    "collapsed": false
   },
   "id": "d7922f422267192a",
   "execution_count": null
  },
  {
   "cell_type": "code",
   "outputs": [],
   "source": [
    "stc.plot('fsaverage',hemi='lh')"
   ],
   "metadata": {
    "collapsed": false
   },
   "id": "cc71a31b7e569e1e",
   "execution_count": null
  },
  {
   "cell_type": "markdown",
   "id": "6f1343d4",
   "metadata": {},
   "source": [
    "## T tests on label time course\n",
    "generates code and statistics for supplementary figure S4"
   ]
  },
  {
   "cell_type": "code",
   "execution_count": null,
   "outputs": [],
   "source": [
    "time1=90\n",
    "time2=120\n",
    "\n",
    "rsp_cond='nasal'\n",
    "\n",
    "left_cond='aware_sys'\n",
    "right_cond='aware_dia'\n",
    "\n",
    "file_name=f'ana/MNE/cluster_stats/ttests/{rsp_cond}/{left_cond}_vs_{right_cond}_{time1}_to_{time2}ms.txt'"
   ],
   "metadata": {
    "collapsed": false
   },
   "id": "102e990494b5cd54"
  },
  {
   "cell_type": "code",
   "execution_count": null,
   "outputs": [],
   "source": [
    "\n",
    "file_name=f'ana/MNE/cluster_stats/ttests/{rsp_cond}/{left_cond}_vs_{right_cond}_{time1}_to_{time2}ms/{left_cond}_vs_{right_cond}_{time1}_to_{time2}ms.txt'"
   ],
   "metadata": {
    "collapsed": false
   },
   "id": "9c2fa63b868bd4f7"
  },
  {
   "cell_type": "code",
   "execution_count": null,
   "outputs": [],
   "source": [
    "with open(file_name,'r') as file:\n",
    "    text=file.read()\n",
    "    print(text)"
   ],
   "metadata": {
    "collapsed": false
   },
   "id": "d05a064613ddfece"
  },
  {
   "cell_type": "code",
   "execution_count": null,
   "outputs": [],
   "source": [
    "stc=mne.read_source_estimate(file_name[:-4])"
   ],
   "metadata": {
    "collapsed": false
   },
   "id": "cf40776b28e0ac2"
  },
  {
   "cell_type": "code",
   "execution_count": null,
   "outputs": [],
   "source": [
    "\n",
    "lab_sig_clu_0=mne.stc_to_label(stc,fwd['src'],smooth=False)\n",
    "lab_sig_clu_0[1].name='rh_P1'"
   ],
   "metadata": {
    "collapsed": false
   },
   "id": "b7bb8b37f9767900"
  },
  {
   "cell_type": "code",
   "outputs": [],
   "source": [
    "search_lab_card=['maskON_correct_cfa_vep_norm_aware_sys','maskON_correct_cfa_vep_norm_unaware_sys','maskON_correct_cfa_vep_norm_aware_dia','maskON_correct_cfa_vep_norm_unaware_dia']\n",
    "stc_list_card = [hp.get_list_cond(stc_files, lab) for lab in search_lab_card]"
   ],
   "metadata": {
    "collapsed": false
   },
   "id": "ee2231647c782eaf",
   "execution_count": null
  },
  {
   "cell_type": "code",
   "execution_count": null,
   "id": "9ab30758",
   "metadata": {},
   "outputs": [],
   "source": [
    "%matplotlib qt\n",
    "\n",
    "effect_labels=['card','aware','cardXawa']\n",
    "data_list=hp.Anovas_label_time_course(stc_list_card,search_lab_card,lab_sig_clu_0[1],crop_value=(0.09,0.12),effects_labels=effect_labels,FDR=False,p_val=0.05,plot_bar=True)\n",
    "\n",
    "\n"
   ]
  },
  {
   "cell_type": "code",
   "execution_count": null,
   "id": "7c6e9aa7",
   "metadata": {},
   "outputs": [],
   "source": [
    "data_lab_ax = np.swapaxes(np.asarray(data_list), 1, 0)\n",
    "data_lab_ax"
   ]
  },
  {
   "cell_type": "code",
   "execution_count": null,
   "id": "e8d8a5dd",
   "metadata": {},
   "outputs": [],
   "source": [
    "\n",
    "cond_list=['aware_sys','unaware_sys','aware_dia','unaware_dia']\n",
    "data_list=pd.DataFrame(data_lab_ax,columns=cond_list)\n",
    "data_list"
   ]
  },
  {
   "cell_type": "code",
   "execution_count": null,
   "id": "a22fb7fa",
   "metadata": {},
   "outputs": [],
   "source": [
    "dict_awa_list={}\n",
    "for col in data_list.columns:\n",
    "    mean_card_awa=data_list[col].mean()\n",
    "    sem_card_awa=data_list[col].sem()\n",
    "    \n",
    "    dict_awa_list[f'{col}']={'mean':mean_card_awa,'sem':sem_card_awa}\n",
    "dict_awa_list"
   ]
  },
  {
   "cell_type": "code",
   "execution_count": null,
   "id": "27acd2e5",
   "metadata": {},
   "outputs": [],
   "source": [
    "data_list.columns"
   ]
  },
  {
   "cell_type": "code",
   "execution_count": null,
   "id": "b9bd5bca",
   "metadata": {},
   "outputs": [],
   "source": [
    "%matplotlib inline\n",
    "x1=data_list['aware_dia']\n",
    "x2=data_list['aware_sys']\n",
    "y1=np.full(len(x1),1)\n",
    "y2=np.full(len(x1),1.5)\n",
    "plt.scatter(y1,x1)\n",
    "plt.scatter(y2,x2)\n",
    "for i in range (len(x1)):\n",
    "    plt.plot([y1[i],y2[i]],[x1[i],x2[i]],color='k')\n"
   ]
  },
  {
   "cell_type": "code",
   "execution_count": null,
   "id": "a1e5fae9",
   "metadata": {},
   "outputs": [],
   "source": [
    "\n",
    "plt.scatter(y1,x1-x2)"
   ]
  },
  {
   "cell_type": "code",
   "execution_count": null,
   "id": "c23e8281",
   "metadata": {},
   "outputs": [],
   "source": []
  },
  {
   "cell_type": "code",
   "execution_count": null,
   "id": "db822b90",
   "metadata": {},
   "outputs": [],
   "source": [
    "%matplotlib qt\n",
    "\n",
    "color_list=['tab:orange','b','tab:orange','b']\n",
    "facecolor_list=['w','w','tab:orange','b']\n",
    "xticklab=['Aware','Unaware']\n",
    "xlab='Awareness'\n",
    "cond_list=['aware_sys','aware_dia','unaware_sys','unaware_dia']\n",
    "    \n",
    "    \n",
    "hatch_list=['///','///','','']\n",
    "adj_list=[0,-0.4,-0.45,-0.85]\n",
    "#color_list=['tab:orange','tab:orange','b','b']\n",
    "#facecolor_list=['w','tab:orange','w','b']\n",
    "\n",
    "alpha_list=[1,0.6,1,0.6]\n",
    "x=0\n",
    "fig,ax=plt.subplots(figsize=(9,7))\n",
    "for cond,color,hatch,adj,facecolor,alpha in zip(cond_list,color_list,hatch_list,adj_list,facecolor_list,alpha_list):\n",
    "    \n",
    "    \n",
    "    ax.bar(x=x+adj,height=[dict_awa_list[cond]['mean']],facecolor=facecolor,yerr=[dict_awa_list[cond]['sem']],\n",
    "            edgecolor=color,hatch=hatch,linewidth=2.5,capsize=(2),ecolor='0.3',\n",
    "            width=0.5,label=cond.split('_')[0]+' '+cond.split('_')[1],alpha=alpha)\n",
    "    \n",
    "    x+=1\n",
    "    \n",
    "\n",
    "\n",
    "plt.xticks([0.3,1.85],labels=xticklab,size='x-large')\n",
    "plt.xlabel(xlab,size='x-large')\n",
    "plt.ylabel('current density (A.U.)',size='x-large')\n",
    "ax.spines['top'].set_visible(False)\n",
    "ax.spines['right'].set_visible(False)\n",
    "#plt.title('Interaction effect of cadiac and awaraness condition in the P1')\n",
    "plt.legend(bbox_to_anchor=(1,1),fontsize='x-large')\n",
    "\n"
   ]
  },
  {
   "cell_type": "code",
   "execution_count": null,
   "id": "219ffc51",
   "metadata": {},
   "outputs": [],
   "source": [
    "os.chdir('Z:/BBC/WP1/data/EEG/tsk')\n",
    "png=f'P1_int_inverse_space_cardXawa.svg'\n",
    "fig_path=f'ana/results_report/images/barplots/{png}'\n",
    "\n",
    "fig.savefig(fig_path,dpi=1500,bbox_inches='tight',format='svg')"
   ]
  },
  {
   "cell_type": "code",
   "execution_count": null,
   "id": "d8f24de0",
   "metadata": {},
   "outputs": [],
   "source": [
    "import scipy.stats as stats"
   ]
  },
  {
   "cell_type": "code",
   "execution_count": null,
   "outputs": [],
   "source": [],
   "metadata": {
    "collapsed": false
   },
   "id": "5477e826ea561c43"
  },
  {
   "cell_type": "code",
   "outputs": [],
   "source": [],
   "metadata": {
    "collapsed": false
   },
   "id": "5d275db34a410a0e"
  },
  {
   "cell_type": "code",
   "execution_count": null,
   "id": "89e360a5",
   "metadata": {},
   "outputs": [],
   "source": [
    "t,p=stats.ttest_rel(data_list['aware_dia'],data_list['aware_sys'])"
   ]
  },
  {
   "cell_type": "code",
   "outputs": [],
   "source": [
    "print(t)\n",
    "print(p)"
   ],
   "metadata": {
    "collapsed": false
   },
   "id": "1eff6103ca9c21cf",
   "execution_count": null
  },
  {
   "cell_type": "code",
   "execution_count": null,
   "outputs": [],
   "source": [
    "#\n",
    "import math\n",
    "d=t/math.sqrt(30)\n",
    "d"
   ],
   "metadata": {
    "collapsed": false
   },
   "id": "b588142b0def9080"
  },
  {
   "cell_type": "code",
   "execution_count": null,
   "id": "bbaebd5b",
   "metadata": {},
   "outputs": [],
   "source": [
    "stats.ttest_rel(data_list['unaware_dia'],data_list['unaware_sys'])"
   ]
  }
 ],
 "metadata": {
  "kernelspec": {
   "name": "mne",
   "language": "python",
   "display_name": "Python (mne)"
  },
  "language_info": {
   "codemirror_mode": {
    "name": "ipython",
    "version": 3
   },
   "file_extension": ".py",
   "mimetype": "text/x-python",
   "name": "python",
   "nbconvert_exporter": "python",
   "pygments_lexer": "ipython3",
   "version": "3.10.5"
  }
 },
 "nbformat": 4,
 "nbformat_minor": 5
}
