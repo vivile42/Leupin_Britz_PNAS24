{
 "cells": [
  {
   "cell_type": "code",
   "execution_count": null,
   "id": "c2d4deea",
   "metadata": {
    "scrolled": true
   },
   "outputs": [],
   "source": [
    "import mne\n",
    "import pandas as pd \n",
    "import re #regex library to format fast to read into pd \n",
    "import os\n",
    "\n",
    "import matplotlib.pyplot as plt\n",
    "import feather \n",
    "\n",
    "import numpy as np\n",
    "import platform\n",
    "\n",
    "from scipy.stats import ttest_ind\n",
    "\n",
    "from scipy import stats\n",
    "\n",
    "from mne.channels import find_ch_adjacency, make_1020_channel_selections\n",
    "from mne.stats import spatio_temporal_cluster_test\n",
    "from mne.stats import (ttest_1samp_no_p, bonferroni_correction, fdr_correction,\n",
    "                       \n",
    "                       \n",
    "                       permutation_t_test, permutation_cluster_1samp_test,spatio_temporal_cluster_1samp_test)\n",
    "import sys\n",
    "if platform.system()=='Darwin':\n",
    "    os.chdir('/Volumes/BBC/BBC/WP1/data/EEG/tsk/')\n",
    "    #sys.path.append('/Users/leupinv/BBC/WP1/data/Code/python/BBC')\n",
    "    #if this doesn't work pound line right above this, restart the kernel, rerun the cell. \n",
    "    #Then uncomment the same line and rerun\n",
    "\n",
    "else:\n",
    "    #os.chdir('Z:/BBC/WP1/data/EEG/tsk')\n",
    "    #sys.path.append('C:/Users/Vivi/switchdrive/BBC/WP1/data/Code/python/BBC')\n",
    "    os.chdir('Z:/BBC/WP1/data/EEG/tsk')\n",
    "\n",
    "#\n",
    "#\n",
    "#os.chdir('d:/switchdrive/BBC/WP1/data/Code/python/tsk_processing_1/base')\n",
    "#os.chdir('c:/Users/Engi/all/BBC/WP1/data/Code/python/tsk_processing_1/base')\n",
    "#os.chdir('/Users/leupinv/switchdrive/BBC/WP1/data/Code/python/tsk_processing_1/base')\n",
    "from base.files_in_out import getListOfFiles,GetFiles\n",
    "from stats.stats_helper import filter_list, tTest_ana, filter_list_equal\n",
    "\n",
    "import stats.stats_helper as s_hp\n",
    "import base.base_constants as cs"
   ]
  },
  {
   "cell_type": "code",
   "execution_count": null,
   "id": "6abf2b60",
   "metadata": {},
   "outputs": [],
   "source": [
    "%load_ext autoreload\n",
    "%autoreload 2\n",
    "import matplotlib as mpl\n",
    "mpl.rcParams['svg.fonttype']='none'\n",
    "mpl.rcParams['text.usetex']=False\n",
    "plt.style.use('default')\n",
    "\n",
    "mpl.rcParams['svg.fonttype']='none'\n",
    "mpl.rcParams['text.usetex']=False"
   ]
  },
  {
   "cell_type": "code",
   "execution_count": null,
   "id": "2061fa87",
   "metadata": {},
   "outputs": [],
   "source": [
    "g_num=None\n",
    "eeg_format='-ave.fif'\n",
    "eeg_exp='tsk'\n",
    "datafolder='ana/MNE/evo_list'\n",
    " \n",
    "\n",
    "#files = getListOfFiles(datafolder,g_num)\n",
    "\n",
    "files = GetFiles(datafolder,g_num=g_num,eeg_format=eeg_format)\n",
    "\n",
    "evo_files=files.fflist"
   ]
  },
  {
   "cell_type": "code",
   "execution_count": null,
   "id": "e8497f73",
   "metadata": {},
   "outputs": [],
   "source": [
    "evo_files"
   ]
  },
  {
   "cell_type": "code",
   "execution_count": null,
   "id": "df172939118c47dd",
   "metadata": {
    "collapsed": false,
    "jupyter": {
     "outputs_hidden": false
    }
   },
   "outputs": [],
   "source": [
    "def crop_list(list_ev,crop_value):\n",
    "    list_cropped=[]\n",
    "    for cond in list_ev:\n",
    "        cond_crop=[evo.crop(crop_value[0],crop_value[1]) for evo in cond]\n",
    "        list_cropped.append(cond_crop)\n",
    "    return list_cropped\n",
    "\n",
    "\n"
   ]
  },
  {
   "cell_type": "markdown",
   "id": "77bcaa40",
   "metadata": {},
   "source": [
    "## Figure supplementary SI 2\n",
    "aware vs unaware conditions"
   ]
  },
  {
   "cell_type": "code",
   "execution_count": null,
   "id": "46f102f4087edc13",
   "metadata": {
    "collapsed": false,
    "jupyter": {
     "outputs_hidden": false
    }
   },
   "outputs": [],
   "source": [
    "cond1=mne.read_evokeds(filter_list_equal(evo_files,f'maskON_correct_cfa_vep_norm_aware_list'))\n",
    "cond2=mne.read_evokeds(filter_list_equal(evo_files,f'maskON_correct_cfa_vep_norm_unaware_list'))"
   ]
  },
  {
   "cell_type": "code",
   "execution_count": null,
   "id": "ba56164b",
   "metadata": {},
   "outputs": [],
   "source": [
    "%matplotlib qt\n",
    "FDR=True\n",
    "if FDR:\n",
    "    correction='FDR'\n",
    "else:\n",
    "    correction='noc'\n",
    "pval=0.05\n",
    "data_shape=[-0.1,0.5]\n",
    "time_plot=[0.105,0.3,0.45]\n",
    "#png=f'{rsp_cond_lab}{correction}_CACU_sysdia_{phy_cond}_{time_plot}'\n",
    "\n",
    "ts,ps=tTest_ana([cond1,cond2],crop_value=data_shape,FDR=FDR,plot_times=time_plot,averages=0.02,p_val=0.05, topo_limits=[-6,6])"
   ]
  },
  {
   "cell_type": "code",
   "execution_count": null,
   "id": "69e7148f86af30e",
   "metadata": {
    "collapsed": false,
    "jupyter": {
     "outputs_hidden": false
    }
   },
   "outputs": [],
   "source": [
    "#the picks define the regions to plot (they will automatically appear on the figure to know exactly their position on the EEG)\n",
    "picks_P1=['D32','A11','A12','A13','A14','A24','A25','A26','A27','B8','B9','B10']\n",
    "\n",
    "\n",
    "\n",
    "picks_VAN=['D32','A9','A10','A11','A12','A16','A15','A14','A13',\n",
    "           'A22','A23','A24','A25','A29','A28','A27','A26','B6','B7','B8','B9','B10']\n",
    "\n",
    "picks_LP=['A2','A3','A4','A19','A20','A21','A22','A32','A31','A30','A29','A5','A18',\n",
    "          'A17','A16','A8','A9','A6','A7','D29','D30','D15','D16','D17','D28','D27']\n",
    "\n",
    "\n",
    "picks_ERP={'P1':picks_P1,'VAN':picks_VAN,'LP':picks_LP}\n"
   ]
  },
  {
   "cell_type": "code",
   "execution_count": null,
   "id": "8b77beb2480a6267",
   "metadata": {
    "collapsed": false,
    "jupyter": {
     "outputs_hidden": false
    }
   },
   "outputs": [],
   "source": [
    "%matplotlib qt\n",
    "cond1=mne.read_evokeds(filter_list_equal(evo_files,f'maskON_correct_cfa_vep_norm_aware_list'))\n",
    "cond2=mne.read_evokeds(filter_list_equal(evo_files,f'maskON_correct_cfa_vep_norm_unaware_list'))\n",
    "\n",
    "\n",
    "crop_value=[-0.1,0.5]\n",
    "\n",
    "cond_1,cond_2=crop_list([cond1,cond2],crop_value)\n",
    "\n",
    "evokeds = {\"Aware\":cond_1,\n",
    "\n",
    "               \"Unaware\":cond_2,\n",
    "           }\n",
    "\n",
    "\n",
    "\n",
    "\n"
   ]
  },
  {
   "cell_type": "code",
   "execution_count": null,
   "id": "3656e69c71b626bc",
   "metadata": {
    "collapsed": false,
    "jupyter": {
     "outputs_hidden": false
    }
   },
   "outputs": [],
   "source": [
    "%matplotlib qt\n",
    "\n",
    "region='VAN'\n",
    "picked=picks_ERP[region]\n",
    "\n",
    "fig_fin,(ax1,ax2)=plt.subplots(2,figsize=(6,12))\n",
    "\n",
    "fig_fin=mne.viz.plot_compare_evokeds(evokeds, combine='mean',ci=False, picks=picked,show_sensors=True,colors=['k','tab:gray'],\n",
    "                                     styles={\"Aware\":{\"linewidth\":1.5},\"Unaware\":{\"linewidth\":1.5}},\n",
    "                                    legend='upper right',linestyles=['--','-'],ylim=dict(eeg=[-3,6]),truncate_yaxis=False,axes=ax1)\n",
    "                                \n",
    "\n",
    "#ylim=dict(eeg=[-3,5.5])\n",
    "\n",
    "png=f'CACU_{region}.svg'\n",
    "fig_path=f'ana/results_report/images/el_waveform/{png}'\n",
    "\n",
    "#fig_evo[0].savefig(fig_path,dpi=600,format='svg')\n",
    "\n",
    "\n"
   ]
  },
  {
   "cell_type": "code",
   "execution_count": null,
   "id": "7a2b73323404248b",
   "metadata": {
    "collapsed": false,
    "jupyter": {
     "outputs_hidden": false
    }
   },
   "outputs": [],
   "source": [
    "\n",
    "png1='Aware - unaware'\n",
    "\n",
    "\n",
    "\n",
    "\n",
    "\n",
    "ts=tTest_ana([cond_1,cond_2],crop_value=crop_value,FDR=False,plot_times='peaks',averages=0.02,p_val=0.05,picks=picked,png=png1,color='k',effect_size='whole',axes=ax2)\n",
    "\n",
    "\n",
    "#ts=tTest_ana([cond5,cond6],crop_value=data_shape,FDR=False,plot_times='peaks',averages=0.02,p_val=0.01,picks=picks_VAN,png=png3,plot_sig_lines=False)\n",
    "#ts=tTest_ana([cond7,cond8],crop_value=data_shape,FDR=False,plot_times='peaks',averages=0.02,p_val=0.01,picks=picks_VAN,png=png4)\n",
    "\n",
    "\n",
    "\n",
    "png=f'CACU_D_{region}.svg'\n",
    "fig_path=f'ana/results_report/images/el_waveform/{png}'\n",
    "\n",
    "#fig_fin[0].savefig(fig_path,dpi=1200,format='svg')\n",
    "\n"
   ]
  },
  {
   "cell_type": "markdown",
   "id": "8b41ec3ccb967cd6",
   "metadata": {
    "collapsed": false,
    "jupyter": {
     "outputs_hidden": false
    }
   },
   "source": [
    "# Figure supplementary SI 3\n",
    "sys and dia removing and adding cfa "
   ]
  },
  {
   "cell_type": "code",
   "execution_count": null,
   "id": "329bc2620cc1d60",
   "metadata": {
    "collapsed": false,
    "jupyter": {
     "outputs_hidden": false
    }
   },
   "outputs": [],
   "source": [
    "%matplotlib qt\n",
    "# cfa= cfa --> with cardiac field artefact\n",
    "# cfa= nc --> without cardiac field artefact\n",
    "cfa='nc'\n",
    "cond_1=mne.read_evokeds(filter_list(evo_files,f'maskON_correct_{cfa}_vep_norm_sys_list'))\n",
    "cond_2=mne.read_evokeds(filter_list(evo_files,f'maskON_correct_{cfa}_vep_norm_dia_list'))\n",
    "\n",
    "\n",
    "crop_value=[-0.1,0.5]\n",
    "\n",
    "cond_1,cond_2=crop_list([cond_1,cond_2],crop_value)\n",
    "\n",
    "evokeds = {\"Sys\":cond_1,\n",
    "\n",
    "               \"Dia\":cond_2,\n",
    "           }\n",
    "\n",
    "\n",
    "\n",
    "picks_cfa=['D24','D25','D26','D29','D30','D31','D32','A8','A9','A10','A11','A12','A17','A16','A15','A14','A13',\n",
    "           'A23','A24','A25','A28','A27','A26','B8','B9']\n"
   ]
  },
  {
   "cell_type": "code",
   "execution_count": null,
   "id": "52ebbc8b7d237d47",
   "metadata": {
    "collapsed": false,
    "jupyter": {
     "outputs_hidden": false
    }
   },
   "outputs": [],
   "source": [
    "%matplotlib qt\n",
    "\n",
    "region=''\n",
    "picked=picks_cfa\n",
    "\n",
    "fig_fin,(ax1,ax2)=plt.subplots(2,figsize=(6,12))\n",
    "\n",
    "fig_fin=mne.viz.plot_compare_evokeds(evokeds, combine='mean',ci=False, picks=picked,show_sensors=True,colors=['r','b'],\n",
    "                                     styles={\"Sys\":{\"linewidth\":1.5},\"Dia\":{\"linewidth\":1.5}},\n",
    "                                    legend='upper right',ylim=dict(eeg=[-3,6]),truncate_yaxis=False,axes=ax1)\n",
    "\n",
    "\n",
    "#ylim=dict(eeg=[-3,5.5])\n",
    "\n",
    "png=f'SysDia_{cfa}.svg'\n",
    "fig_path=f'ana/results_report/images/el_waveform/{png}'\n",
    "\n",
    "fig_evo[0].savefig(fig_path,dpi=600,format='svg')\n",
    "\n",
    "\n"
   ]
  },
  {
   "cell_type": "code",
   "execution_count": null,
   "id": "476a07b99dcb323a",
   "metadata": {
    "collapsed": false,
    "jupyter": {
     "outputs_hidden": false
    }
   },
   "outputs": [],
   "source": []
  },
  {
   "cell_type": "markdown",
   "id": "c051f85d7f72f22e",
   "metadata": {
    "collapsed": false,
    "jupyter": {
     "outputs_hidden": false
    }
   },
   "source": [
    "## Figure 2 A, E\n"
   ]
  },
  {
   "cell_type": "code",
   "execution_count": null,
   "id": "26b6208afa5f8069",
   "metadata": {
    "collapsed": false,
    "jupyter": {
     "outputs_hidden": false
    }
   },
   "outputs": [],
   "source": [
    "\n",
    "phy_phase='exh'\n",
    "if phy_phase =='inh' or phy_phase =='exh':\n",
    "    time_plot=[0.75]\n",
    "elif phy_phase=='sys' or phy_phase =='dia':\n",
    "    time_plot=[0.105]\n",
    "\n",
    "cond1=mne.read_evokeds(filter_list_equal(evo_files,f'maskON_correct_cfa_vep_norm_aware_{phy_phase}_list'))\n",
    "cond2=mne.read_evokeds(filter_list_equal(evo_files,f'maskON_correct_cfa_vep_norm_unaware_{phy_phase}_list'))"
   ]
  },
  {
   "cell_type": "code",
   "execution_count": null,
   "id": "6ff8670aa293fc55",
   "metadata": {
    "collapsed": false,
    "jupyter": {
     "outputs_hidden": false
    }
   },
   "outputs": [],
   "source": [
    "%matplotlib qt\n",
    "FDR=True\n",
    "if FDR:\n",
    "    correction='FDR'\n",
    "else:\n",
    "    correction='noc'\n",
    "pval=0.05\n",
    "data_shape=[-0.1,0.5]\n",
    "\n",
    "#png=f'{rsp_cond_lab}{correction}_CACU_sysdia_{phy_cond}_{time_plot}'\n",
    "\n",
    "ts,ps=tTest_ana([cond1,cond2],crop_value=data_shape,FDR=FDR,plot_times=time_plot,averages=0.02,p_val=0.05, topo_limits=[-3,3])"
   ]
  },
  {
   "cell_type": "markdown",
   "id": "c586f742",
   "metadata": {},
   "source": [
    "## Figure 2 B C D, F G H template\n",
    "set phy_sig to cardiac_phase and to rsp_phase to get two different outcomes\n",
    "\n",
    "\n"
   ]
  },
  {
   "cell_type": "code",
   "execution_count": null,
   "id": "cf66e70b",
   "metadata": {},
   "outputs": [],
   "source": [
    "crop_value=[-0.1,0.5]\n",
    "phy_sig='rsp_phase'\n",
    "rsp_cond='n'\n"
   ]
  },
  {
   "cell_type": "code",
   "execution_count": null,
   "id": "9bcafe9655914de6",
   "metadata": {
    "collapsed": false,
    "jupyter": {
     "outputs_hidden": false
    }
   },
   "outputs": [],
   "source": []
  },
  {
   "cell_type": "code",
   "execution_count": null,
   "id": "b1a9cbed",
   "metadata": {},
   "outputs": [],
   "source": [
    "%matplotlib qt\n",
    "cond_1_awa=\"aware_\"\n",
    "cond_2_awa=\"unaware_\"\n",
    "cond_3_awa=\"aware_\"\n",
    "cond_4_awa=\"unaware_\"\n",
    "if phy_sig=='rsp_phase':\n",
    "\n",
    "    cond_1_phy=\"inh\"\n",
    "    cond_2_phy=\"inh\"\n",
    "    cond_3_phy=\"exh\"\n",
    "    cond_4_phy=\"exh\"\n",
    "elif phy_sig=='cardiac_phase':\n",
    "    cond_1_phy=\"sys\"\n",
    "    cond_2_phy=\"sys\"\n",
    "    cond_3_phy=\"dia\"\n",
    "    cond_4_phy=\"dia\"\n",
    "elif phy_sig==None:\n",
    "    cond_1_phy=\"\"\n",
    "    cond_2_phy=\"\"\n",
    "    cond_3_phy=\"\"\n",
    "    cond_4_phy=\"\"\n",
    "if rsp_cond=='o':\n",
    "    rsp_cond_lab='tsk_o_'\n",
    "elif rsp_cond=='n':\n",
    "    rsp_cond_lab=''\n",
    "\n",
    "cond_1=mne.read_evokeds(filter_list_equal(evo_files,f'{rsp_cond_lab}maskON_correct_cfa_vep_norm_{cond_1_awa}{cond_1_phy}_list'))\n",
    "cond_2=mne.read_evokeds(filter_list_equal(evo_files,f'{rsp_cond_lab}maskON_correct_cfa_vep_norm_{cond_2_awa}{cond_2_phy}_list'))\n",
    "cond_3=mne.read_evokeds(filter_list_equal(evo_files,f'{rsp_cond_lab}maskON_correct_cfa_vep_norm_{cond_3_awa}{cond_3_phy}_list'))\n",
    "cond_4=mne.read_evokeds(filter_list_equal(evo_files,f'{rsp_cond_lab}maskON_correct_cfa_vep_norm_{cond_4_awa}{cond_4_phy}_list'))\n",
    "#picks_VAN=['D32','A9','A10','A11','A12','A16','A15','A14','A13',\n",
    "           #'A22','A23','A24','A25','A29','A28','A27','A26','B6','B7','B8','B9','B10']\n",
    "\n",
    "\n",
    "cond_1,cond_2,cond_3,cond_4=crop_list([cond_1,cond_2,cond_3,cond_4],crop_value)\n",
    "\n",
    "#picks=['A13','A14','A24','A25','A26','A27']\n",
    "#picks=['A7','A9','A19','D29','D30','D31']\n",
    "#picks=['A26','B8','B9','B10']\n",
    "cond_1_lab=f\"{cond_1_awa}{cond_1_phy}\"\n",
    "cond_2_lab=f\"{cond_2_awa}{cond_2_phy}\"\n",
    "cond_3_lab=f\"{cond_3_awa}{cond_3_phy}\"\n",
    "cond_4_lab=f\"{cond_4_awa}{cond_4_phy}\"\n",
    "evokeds = {f\"{cond_1_lab}\":cond_1,\n",
    "\n",
    "           f\"{cond_2_lab}\":cond_2,\n",
    "\n",
    "            f\"{cond_3_lab}\":cond_3,\n",
    "\n",
    "           f\"{cond_4_lab}\":cond_4}\n",
    "\n",
    "\n",
    "\n",
    "\n"
   ]
  },
  {
   "cell_type": "markdown",
   "id": "3719fa74",
   "metadata": {},
   "source": [
    "## Define df  for P1 picture\n",
    "the barplot is based on the P1 electrodes while the lineplots are based on the VAN"
   ]
  },
  {
   "cell_type": "code",
   "execution_count": null,
   "id": "27655cd7",
   "metadata": {},
   "outputs": [],
   "source": [
    "region_ax1=\"P1\"\n",
    "crop_period=s_hp.define_period(region_ax1,phy_sig)\n",
    "erp_df=s_hp.get_erp_df(evokeds.copy(),crop_period,picks_ERP[region_ax1])\n"
   ]
  },
  {
   "cell_type": "markdown",
   "id": "43dc0039",
   "metadata": {},
   "source": [
    "### P1 electrodes loc\n",
    "fig=plt.figure(figsize=(3,3))\n",
    "ax=plt.gca()\n",
    "mne.viz.plot_sensors(cond_1[0].info,axes=ax,pointsize=35)\n",
    "fig_path=f'ana/results_report/images/el_waveform/P1_topo.svg'\n",
    "fig.savefig(fig_path,dpi=1200,format='svg')"
   ]
  },
  {
   "cell_type": "code",
   "execution_count": null,
   "id": "f0f6d01c",
   "metadata": {},
   "outputs": [],
   "source": [
    "erp_df=pd.DataFrame.from_dict(erp_df)\n",
    "erp_df['id']=erp_df.index\n",
    "wide1=pd.wide_to_long(erp_df,stubnames=['aware','unaware'],i='id',j=phy_sig,sep=\"_\",suffix='\\D+')\n",
    "wide1.rename(columns=dict(aware='AmplitudeAware',unaware='AmplitudeUnaware'),inplace=True)\n",
    "wide1.reset_index(inplace=True)\n",
    "wide2=pd.wide_to_long(wide1,stubnames=['Amplitude'],i=[phy_sig,'id'],j='Awareness',sep=\"\",suffix='\\D+')\n",
    "wide2.reset_index(inplace=True)\n",
    "wide2"
   ]
  },
  {
   "cell_type": "code",
   "execution_count": null,
   "id": "87844cd6",
   "metadata": {},
   "outputs": [],
   "source": [
    "import pingouin as pg\n",
    "pg.rm_anova(data=wide2,dv='Amplitude',within=['Awareness',phy_sig],subject='id',effsize='np2')"
   ]
  },
  {
   "cell_type": "code",
   "execution_count": null,
   "id": "119528a3",
   "metadata": {},
   "outputs": [],
   "source": [
    "ttest=pg.pairwise_tests(data=wide2,dv='Amplitude',within=[phy_sig,'Awareness'],subject='id',padjust='fdr_bh')"
   ]
  },
  {
   "cell_type": "code",
   "execution_count": null,
   "id": "9b6da8ee19994cea",
   "metadata": {
    "collapsed": false,
    "jupyter": {
     "outputs_hidden": false
    }
   },
   "outputs": [],
   "source": [
    "ttest"
   ]
  },
  {
   "cell_type": "code",
   "execution_count": null,
   "id": "32653fadfb6946b5",
   "metadata": {
    "collapsed": false,
    "jupyter": {
     "outputs_hidden": false
    }
   },
   "outputs": [],
   "source": [
    "#effect size cohen's D\n",
    "import math\n",
    "ttest['T']/math.sqrt(30)"
   ]
  },
  {
   "cell_type": "markdown",
   "id": "f5c15658e2ee4799",
   "metadata": {
    "collapsed": false,
    "jupyter": {
     "outputs_hidden": false
    }
   },
   "source": []
  },
  {
   "cell_type": "code",
   "execution_count": null,
   "id": "763e3baf",
   "metadata": {},
   "outputs": [],
   "source": [
    "dv='Amplitude'\n",
    "\n",
    "dict_awa_list={}\n",
    "\n",
    "\n",
    "\n",
    "for awa in wide2['Awareness'].unique():\n",
    "\n",
    "\n",
    "    awa_df=wide2[wide2['Awareness']==awa][[dv,phy_sig]]\n",
    "    for phases in wide2[phy_sig].unique():\n",
    "        awa_card=awa_df[awa_df[phy_sig]==phases]\n",
    "        mean_card_awa=awa_card.mean()[dv]\n",
    "        sem_card_awa=awa_card.sem()[dv]\n",
    "        dict_awa_list[f'{awa}_{phases}']={'mean':mean_card_awa,'sem':sem_card_awa}\n",
    "        #dict_awa_list.append(dict_awa)"
   ]
  },
  {
   "cell_type": "code",
   "execution_count": null,
   "id": "fa59dcbc",
   "metadata": {},
   "outputs": [],
   "source": []
  },
  {
   "cell_type": "code",
   "execution_count": null,
   "id": "17427f37",
   "metadata": {},
   "outputs": [],
   "source": [
    "dict_awa_list"
   ]
  },
  {
   "cell_type": "code",
   "execution_count": null,
   "id": "e68cae32",
   "metadata": {},
   "outputs": [],
   "source": [
    "%matplotlib qt\n",
    "#cm=1/2.54 #cm in inches\n",
    "fig_fin,((ax1,ax2),(ax3,ax4))=plt.subplots(2,2,figsize=(12,12),gridspec_kw={'width_ratios':[2,3]})\n",
    "if phy_sig=='rsp_phase':\n",
    "    color_list=['g','g','tab:pink','tab:pink']\n",
    "    facecolor_list=['w','g','w','tab:pink']\n",
    "    xticklab=['inhalation', 'exhalation']\n",
    "    xlab='respiratory phase'\n",
    "    cond_list=['Aware_inh','Unaware_inh','Aware_exh','Unaware_exh']\n",
    "    y_lim_plot=2.5e-6\n",
    "else:\n",
    "    color_list=['tab:orange','tab:orange','b','b']\n",
    "    facecolor_list=['w','tab:orange','w','b']\n",
    "    xticklab=['systole','diastole']\n",
    "    xlab='cardiac phase'\n",
    "    cond_list=['Aware_sys','Unaware_sys','Aware_dia','Unaware_dia']\n",
    "    y_lim_plot=6e-6\n",
    "\n",
    "\n",
    "hatch_list=['///','','///','']\n",
    "adj_list=[0,-0.4,-0.45,-0.85]\n",
    "#color_list=['tab:orange','tab:orange','b','b']\n",
    "#facecolor_list=['w','tab:orange','w','b']\n",
    "\n",
    "alpha_list=[1,0.6,1,0.6]\n",
    "x=0\n",
    "\n",
    "for cond,color,hatch,adj,facecolor,alpha in zip(cond_list,color_list,hatch_list,adj_list,facecolor_list,alpha_list):\n",
    "\n",
    "\n",
    "    fig_fin=ax3.bar(x=x+adj,height=[dict_awa_list[cond]['mean']],facecolor=facecolor,yerr=[dict_awa_list[cond]['sem']],\n",
    "           edgecolor=color,hatch=hatch,linewidth=2.5,capsize=(2),ecolor='0.3',\n",
    "                    width=0.5,label=cond.split('_')[0]+' '+cond.split('_')[1],alpha=alpha)\n",
    "    x+=1\n",
    "\n",
    "fig_fin=ax3.set_ylim(None,y_lim_plot)\n",
    "fig_fin=ax3.set_xticks([0.3,1.85],labels=xticklab,size='x-large')\n",
    "fig_fin=ax3.set_xlabel(xlab,size='x-large')\n",
    "fig_fin=ax3.set_ylabel(f'{region_ax1} amplitude (uV)',size='x-large')\n",
    "fig_fin=ax3.spines['top'].set_visible(False)\n",
    "fig_fin=ax3.spines['right'].set_visible(False)\n",
    "\n",
    "fig_fin=ax3.legend(bbox_to_anchor=(1,1),fontsize='large')"
   ]
  },
  {
   "cell_type": "markdown",
   "id": "ca4d3a2e",
   "metadata": {},
   "source": [
    "## Define df  for VAN picture\n",
    "the barplot is based on the P1 electrodes while the lineplots are based on the VAN\n",
    "unfortunately i need to reload the evoked, i cannot find a way of safely deep copy the objects, so the info structure get modified and some channels are dropped"
   ]
  },
  {
   "cell_type": "code",
   "execution_count": null,
   "id": "41f979ff",
   "metadata": {},
   "outputs": [],
   "source": [
    "%matplotlib qt\n",
    "cond_1_awa=\"aware_\"\n",
    "cond_2_awa=\"unaware_\"\n",
    "\n",
    "if phy_sig=='rsp_phase':\n",
    "    cond_1_phy=\"inh\"\n",
    "    cond_2_phy=\"exh\"\n",
    "\n",
    "elif phy_sig=='cardiac_phase':\n",
    "    cond_1_phy=\"sys\"\n",
    "    cond_2_phy=\"dia\"\n",
    "elif phy_sig==None:\n",
    "    cond_1_phy=\"\"\n",
    "    cond_2_phy=\"\"\n",
    "\n",
    "\n",
    "cond_1=mne.read_evokeds(filter_list_equal(evo_files,f'{rsp_cond_lab}maskON_correct_cfa_vep_norm_{cond_1_awa}{cond_1_phy}_list'))\n",
    "cond_2=mne.read_evokeds(filter_list_equal(evo_files,f'{rsp_cond_lab}maskON_correct_cfa_vep_norm_{cond_2_awa}{cond_1_phy}_list'))\n",
    "cond_3=mne.read_evokeds(filter_list_equal(evo_files,f'{rsp_cond_lab}maskON_correct_cfa_vep_norm_{cond_1_awa}{cond_2_phy}_list'))\n",
    "cond_4=mne.read_evokeds(filter_list_equal(evo_files,f'{rsp_cond_lab}maskON_correct_cfa_vep_norm_{cond_2_awa}{cond_2_phy}_list'))\n",
    "#picks_VAN=['D32','A9','A10','A11','A12','A16','A15','A14','A13',\n",
    "#'A22','A23','A24','A25','A29','A28','A27','A26','B6','B7','B8','B9','B10']\n",
    "\n",
    "\n",
    "cond_1,cond_2,cond_3,cond_4=crop_list([cond_1,cond_2,cond_3,cond_4],crop_value)\n",
    "\n",
    "#picks=['A13','A14','A24','A25','A26','A27']\n",
    "#picks=['A7','A9','A19','D29','D30','D31']\n",
    "#picks=['A26','B8','B9','B10']\n",
    "cond_1_lab=f\"{cond_1_awa}{cond_1_phy}\"\n",
    "cond_2_lab=f\"{cond_2_awa}{cond_1_phy}\"\n",
    "cond_3_lab=f\"{cond_1_awa}{cond_2_phy}\"\n",
    "cond_4_lab=f\"{cond_2_awa}{cond_2_phy}\"\n",
    "evokeds = {f\"{cond_1_lab}\":cond_1,\n",
    "\n",
    "           f\"{cond_2_lab}\":cond_2,\n",
    "\n",
    "           f\"{cond_3_lab}\":cond_3,\n",
    "\n",
    "           f\"{cond_4_lab}\":cond_4}\n",
    "\n",
    "\n",
    "\n"
   ]
  },
  {
   "cell_type": "code",
   "execution_count": null,
   "id": "c24e96f0",
   "metadata": {},
   "outputs": [],
   "source": [
    "region_ax2=\"VAN\"\n",
    "\n",
    "picked=picks_ERP[region_ax2]\n",
    "if phy_sig=='rsp_phase':\n",
    "    colors=['olivedrab','tab:green','tab:pink','purple']\n",
    "elif phy_sig=='cardiac_phase':\n",
    "    colors=['tab:orange','r','c','b']\n",
    "#fig_fin,axs=plt.subplots(2,figsize=(8,12))\n",
    "\n",
    "fig_fin=mne.viz.plot_compare_evokeds(evokeds, combine='mean',ci=False, picks=picked,show_sensors=True,colors=colors,\n",
    "                                     styles={cond_1_lab:{\"linewidth\":1.5},cond_2_lab:{\"linewidth\":1.5},cond_3_lab:{\"linewidth\":1.5},cond_4_lab:{\"linewidth\":1.5}},axes=ax2,\n",
    "                                    legend='upper right',linestyles=['-.','-','-.','-'],ylim=dict(eeg=[-3,6]),truncate_yaxis=False)\n",
    "fig_fin=fig_fin[0]\n",
    "\n",
    "#ylim=dict(eeg=[-3,5.5])\n",
    "\n",
    "png=f'{rsp_cond_lab}CACU_{phy_sig}_{region_ax2}.svg'\n",
    "fig_path=f'ana/results_report/images/el_waveform/{png}'\n",
    "\n",
    "\n",
    "#fig_evo[0].savefig(fig_path,dpi=600,format='svg')\n",
    "\n",
    "\n"
   ]
  },
  {
   "cell_type": "code",
   "execution_count": null,
   "id": "460eede6b1a2df9b",
   "metadata": {
    "collapsed": false,
    "jupyter": {
     "outputs_hidden": false
    }
   },
   "outputs": [],
   "source": []
  },
  {
   "cell_type": "code",
   "execution_count": null,
   "id": "b930549b",
   "metadata": {
    "scrolled": true
   },
   "outputs": [],
   "source": [
    "if phy_sig=='rsp_phase':\n",
    "    png1='Aware - unaware inh'\n",
    "    png2='Aware - unaware exh'\n",
    "    color_1='tab:green'\n",
    "    color_2='tab:pink'\n",
    "elif phy_sig=='cardiac_phase':\n",
    "    png1='Aware - unaware sys'\n",
    "    png2='Aware - unaware dia'\n",
    "    color_1='tab:orange'\n",
    "    color_2='blue'\n",
    "\n",
    "\n",
    "\n",
    "ts=tTest_ana([cond_1,cond_2],crop_value=crop_value,FDR=True,plot_times='peaks',averages=0.02,p_val=0.05,picks=picked,png=png1,color=color_1,effect_size='whole',axes=ax4)\n",
    "ts=tTest_ana([cond_3,cond_4],crop_value=crop_value,FDR=True,plot_times='peaks',averages=0.02,p_val=0.05,picks=picked,png=png2,color=color_2,effect_size='whole',axes=ax4)\n",
    "\n",
    "#plt.tight_layout()\n",
    "#ts=tTest_ana([cond5,cond6],crop_value=data_shape,FDR=False,plot_times='peaks',averages=0.02,p_val=0.01,picks=picks_VAN,png=png3,plot_sig_lines=False)\n",
    "#ts=tTest_ana([cond7,cond8],crop_value=data_shape,FDR=False,plot_times='peaks',averages=0.02,p_val=0.01,picks=picks_VAN,png=png4)\n",
    "#plt.tight_layout()\n",
    "\n",
    "\n",
    "png=f'{rsp_cond_lab}CACU_{phy_sig}_{region_ax1}_{region_ax2}.svg'\n",
    "fig_path=f'ana/results_report/images/el_waveform/{png}'\n",
    "\n",
    "fig_fin.savefig(fig_path,dpi=1200,format='svg')\n",
    "\n"
   ]
  },
  {
   "cell_type": "code",
   "execution_count": null,
   "id": "8ba2d0e2",
   "metadata": {},
   "outputs": [],
   "source": [
    "fig_fin.show()"
   ]
  },
  {
   "cell_type": "code",
   "execution_count": null,
   "id": "1ddddf77c813e6a",
   "metadata": {
    "collapsed": false,
    "jupyter": {
     "outputs_hidden": false
    }
   },
   "outputs": [],
   "source": []
  }
 ],
 "metadata": {
  "kernelspec": {
   "display_name": "Python (mne)",
   "language": "python",
   "name": "mne"
  },
  "language_info": {
   "codemirror_mode": {
    "name": "ipython",
    "version": 3
   },
   "file_extension": ".py",
   "mimetype": "text/x-python",
   "name": "python",
   "nbconvert_exporter": "python",
   "pygments_lexer": "ipython3",
   "version": "3.12.2"
  }
 },
 "nbformat": 4,
 "nbformat_minor": 5
}
